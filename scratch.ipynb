{
 "cells": [
  {
   "cell_type": "code",
   "execution_count": 1,
   "id": "5947ca0f",
   "metadata": {},
   "outputs": [],
   "source": [
    "import os\n",
    "import json\n",
    "import grain\n",
    "import jax\n",
    "import jax.numpy as jnp\n",
    "import random\n",
    "from functools import partial\n",
    "import numpy as np"
   ]
  },
  {
   "cell_type": "code",
   "execution_count": 2,
   "id": "0ecb8227",
   "metadata": {},
   "outputs": [],
   "source": [
    "# {'train': [{'input': [[2, 0, 2], [0, 2, 0], [2, 0, 2]], 'output': [[1]]},\n",
    "#   {'input': [[2, 0, 0], [2, 0, 0], [0, 2, 0]], 'output': [[7]]},\n",
    "#   {'input': [[2, 0, 2], [2, 0, 2], [2, 0, 2]], 'output': [[1]]},\n",
    "#   {'input': [[0, 0, 0], [2, 0, 2], [0, 0, 0]], 'output': [[1]]},\n",
    "#   {'input': [[2, 2, 0], [0, 2, 2], [0, 0, 0]], 'output': [[7]]},\n",
    "#   {'input': [[2, 2, 0], [0, 2, 0], [0, 0, 0]], 'output': [[7]]}],\n",
    "#  'test': [{'input': [[2, 0, 2], [2, 2, 2], [2, 0, 2]], 'output': [[1]]},\n",
    "#   {'input': [[0, 0, 0], [2, 0, 0], [2, 0, 0]], 'output': [[7]]}]}"
   ]
  },
  {
   "cell_type": "code",
   "execution_count": 3,
   "id": "3b39348c",
   "metadata": {},
   "outputs": [],
   "source": [
    "class JsonDataSource(grain.sources.RandomAccessDataSource):\n",
    "    def __init__(self, folder):\n",
    "        self.file_paths = [\n",
    "            os.path.join(folder, f) \n",
    "            for f in os.listdir(folder) \n",
    "            if f.endswith('.json')\n",
    "        ]\n",
    "    \n",
    "    def __len__(self):\n",
    "        return len(self.file_paths)\n",
    "    \n",
    "    def __getitem__(self, index):\n",
    "        with open(self.file_paths[index], 'r') as f:\n",
    "            return json.load(f)\n",
    "\n",
    "\n",
    "class Parse(grain.transforms.Map):\n",
    "    def map(self, x):\n",
    "        return {\n",
    "            split: {\n",
    "                xput: [jnp.array(sample[xput]) for sample in x[split]]\n",
    "                for xput in ('input', 'output')\n",
    "            }\n",
    "            for split in (\"train\", \"test\")\n",
    "        }\n",
    "\n",
    "class D8Augmentation(grain.transforms.RandomMap):\n",
    "    def __init__(self):\n",
    "        self.ops = (\n",
    "            lambda x: x,\n",
    "            partial(jnp.rot90, k=1),\n",
    "            partial(jnp.rot90, k=2),\n",
    "            partial(jnp.rot90, k=3),\n",
    "            jnp.fliplr,\n",
    "            jnp.flipud,\n",
    "            jnp.transpose,\n",
    "            lambda x: jnp.transpose(jnp.rot90(x, k=1)),\n",
    "        )\n",
    "\n",
    "    def random_map(self, x, rng: np.random.Generator):\n",
    "        fn = self.ops[rng.integers(0, 8).item()]\n",
    "        return jax.tree.map(fn, x)\n",
    "\n",
    "class ColourAugmentation(grain.transforms.RandomMap):\n",
    "    def random_map(self, x, rng: np.random.Generator):\n",
    "        colours = rng.permutation(10)\n",
    "        x = jax.tree.map(lambda x: colours[x], x)\n",
    "        return x\n",
    "\n",
    "\n",
    "class Stack(grain.transforms.Map):\n",
    "    def __init__(self, max_grid_size = 30, max_train_samples = 10, max_test_samples = 3):\n",
    "        self.max_grid_size = max_grid_size\n",
    "        self.max_train_samples = max_train_samples\n",
    "        self.max_test_samples = max_test_samples\n",
    "        \n",
    "    def _pad_and_expand(self, x):\n",
    "        padded = jnp.pad(\n",
    "            x,\n",
    "            pad_width=((0, self.max_grid_size - x.shape[0]), (0, self.max_grid_size - x.shape[1])),\n",
    "            mode=\"constant\",\n",
    "            constant_values=-1\n",
    "        )\n",
    "        expanded = padded[jnp.newaxis, ...]\n",
    "        return expanded\n",
    "    \n",
    "    def map(self, x):\n",
    "        pad_sample = jnp.full((1, self.max_grid_size, self.max_grid_size), -1)\n",
    "        train_pad_samples = [pad_sample for _ in range(self.max_train_samples - len(x[\"train\"]['input']))]\n",
    "        test_pad_samples = [pad_sample for _ in range(self.max_test_samples - len(x[\"test\"]['input']))]\n",
    "        return {\n",
    "            split: {\n",
    "                xput: jnp.vstack([self._pad_and_expand(sample) for sample in x[split][xput]] + pad_samples)\n",
    "                for xput in ('input', 'output')\n",
    "            }\n",
    "            for split, pad_samples in zip((\"train\", \"test\"), (train_pad_samples, test_pad_samples))\n",
    "        }\n",
    "    \n",
    "\n",
    "def get_data_loader(data_dir):\n",
    "\n",
    "    data_source = JsonDataSource(data_dir)\n",
    "\n",
    "    sampler = grain.samplers.IndexSampler(len(data_source), seed=0)\n",
    "\n",
    "    operations = [\n",
    "        Parse(),\n",
    "        D8Augmentation(),\n",
    "        ColourAugmentation(),\n",
    "        Stack(),\n",
    "        grain.transforms.Batch(batch_size=2)\n",
    "    ]\n",
    "\n",
    "    return grain.DataLoader(data_source=data_source, operations=operations, sampler=sampler)"
   ]
  },
  {
   "cell_type": "code",
   "execution_count": 4,
   "id": "596a8f41",
   "metadata": {},
   "outputs": [
    {
     "data": {
      "text/plain": [
       "{'train': [{'input': [[0, 0, 5], [0, 5, 0], [5, 0, 0]],\n",
       "   'output': [[3, 3, 3], [4, 4, 4], [2, 2, 2]]},\n",
       "  {'input': [[0, 0, 5], [0, 0, 5], [0, 0, 5]],\n",
       "   'output': [[3, 3, 3], [3, 3, 3], [3, 3, 3]]},\n",
       "  {'input': [[5, 0, 0], [0, 5, 0], [5, 0, 0]],\n",
       "   'output': [[2, 2, 2], [4, 4, 4], [2, 2, 2]]},\n",
       "  {'input': [[0, 5, 0], [0, 0, 5], [0, 5, 0]],\n",
       "   'output': [[4, 4, 4], [3, 3, 3], [4, 4, 4]]}],\n",
       " 'test': [{'input': [[0, 0, 5], [5, 0, 0], [0, 5, 0]],\n",
       "   'output': [[3, 3, 3], [2, 2, 2], [4, 4, 4]]}]}"
      ]
     },
     "execution_count": 4,
     "metadata": {},
     "output_type": "execute_result"
    }
   ],
   "source": [
    "source = JsonDataSource(\"data/training\")\n",
    "source[0]"
   ]
  },
  {
   "cell_type": "code",
   "execution_count": 5,
   "id": "8a1f78e2",
   "metadata": {},
   "outputs": [],
   "source": [
    "train_data_loader = get_data_loader(\"data/training\")"
   ]
  },
  {
   "cell_type": "code",
   "execution_count": null,
   "id": "68ee5a49",
   "metadata": {},
   "outputs": [],
   "source": []
  },
  {
   "cell_type": "code",
   "execution_count": 6,
   "id": "969d8253",
   "metadata": {},
   "outputs": [
    {
     "data": {
      "text/plain": [
       "(array([[[ 0,  0,  5, ..., -1, -1, -1],\n",
       "         [ 0,  5,  0, ..., -1, -1, -1],\n",
       "         [ 5,  0,  0, ..., -1, -1, -1],\n",
       "         ...,\n",
       "         [-1, -1, -1, ..., -1, -1, -1],\n",
       "         [-1, -1, -1, ..., -1, -1, -1],\n",
       "         [-1, -1, -1, ..., -1, -1, -1]],\n",
       " \n",
       "        [[ 0,  0,  5, ..., -1, -1, -1],\n",
       "         [ 0,  0,  5, ..., -1, -1, -1],\n",
       "         [ 0,  0,  5, ..., -1, -1, -1],\n",
       "         ...,\n",
       "         [-1, -1, -1, ..., -1, -1, -1],\n",
       "         [-1, -1, -1, ..., -1, -1, -1],\n",
       "         [-1, -1, -1, ..., -1, -1, -1]],\n",
       " \n",
       "        [[ 5,  0,  0, ..., -1, -1, -1],\n",
       "         [ 0,  5,  0, ..., -1, -1, -1],\n",
       "         [ 5,  0,  0, ..., -1, -1, -1],\n",
       "         ...,\n",
       "         [-1, -1, -1, ..., -1, -1, -1],\n",
       "         [-1, -1, -1, ..., -1, -1, -1],\n",
       "         [-1, -1, -1, ..., -1, -1, -1]],\n",
       " \n",
       "        ...,\n",
       " \n",
       "        [[-1, -1, -1, ..., -1, -1, -1],\n",
       "         [-1, -1, -1, ..., -1, -1, -1],\n",
       "         [-1, -1, -1, ..., -1, -1, -1],\n",
       "         ...,\n",
       "         [-1, -1, -1, ..., -1, -1, -1],\n",
       "         [-1, -1, -1, ..., -1, -1, -1],\n",
       "         [-1, -1, -1, ..., -1, -1, -1]],\n",
       " \n",
       "        [[-1, -1, -1, ..., -1, -1, -1],\n",
       "         [-1, -1, -1, ..., -1, -1, -1],\n",
       "         [-1, -1, -1, ..., -1, -1, -1],\n",
       "         ...,\n",
       "         [-1, -1, -1, ..., -1, -1, -1],\n",
       "         [-1, -1, -1, ..., -1, -1, -1],\n",
       "         [-1, -1, -1, ..., -1, -1, -1]],\n",
       " \n",
       "        [[-1, -1, -1, ..., -1, -1, -1],\n",
       "         [-1, -1, -1, ..., -1, -1, -1],\n",
       "         [-1, -1, -1, ..., -1, -1, -1],\n",
       "         ...,\n",
       "         [-1, -1, -1, ..., -1, -1, -1],\n",
       "         [-1, -1, -1, ..., -1, -1, -1],\n",
       "         [-1, -1, -1, ..., -1, -1, -1]]], shape=(10, 30, 30), dtype=int32),\n",
       " array([[[ 6,  6,  6, ..., -1, -1, -1],\n",
       "         [ 9,  9,  9, ..., -1, -1, -1],\n",
       "         [ 8,  8,  8, ..., -1, -1, -1],\n",
       "         ...,\n",
       "         [-1, -1, -1, ..., -1, -1, -1],\n",
       "         [-1, -1, -1, ..., -1, -1, -1],\n",
       "         [-1, -1, -1, ..., -1, -1, -1]],\n",
       " \n",
       "        [[ 6,  6,  6, ..., -1, -1, -1],\n",
       "         [ 6,  6,  6, ..., -1, -1, -1],\n",
       "         [ 6,  6,  6, ..., -1, -1, -1],\n",
       "         ...,\n",
       "         [-1, -1, -1, ..., -1, -1, -1],\n",
       "         [-1, -1, -1, ..., -1, -1, -1],\n",
       "         [-1, -1, -1, ..., -1, -1, -1]],\n",
       " \n",
       "        [[ 8,  8,  8, ..., -1, -1, -1],\n",
       "         [ 9,  9,  9, ..., -1, -1, -1],\n",
       "         [ 8,  8,  8, ..., -1, -1, -1],\n",
       "         ...,\n",
       "         [-1, -1, -1, ..., -1, -1, -1],\n",
       "         [-1, -1, -1, ..., -1, -1, -1],\n",
       "         [-1, -1, -1, ..., -1, -1, -1]],\n",
       " \n",
       "        ...,\n",
       " \n",
       "        [[-1, -1, -1, ..., -1, -1, -1],\n",
       "         [-1, -1, -1, ..., -1, -1, -1],\n",
       "         [-1, -1, -1, ..., -1, -1, -1],\n",
       "         ...,\n",
       "         [-1, -1, -1, ..., -1, -1, -1],\n",
       "         [-1, -1, -1, ..., -1, -1, -1],\n",
       "         [-1, -1, -1, ..., -1, -1, -1]],\n",
       " \n",
       "        [[-1, -1, -1, ..., -1, -1, -1],\n",
       "         [-1, -1, -1, ..., -1, -1, -1],\n",
       "         [-1, -1, -1, ..., -1, -1, -1],\n",
       "         ...,\n",
       "         [-1, -1, -1, ..., -1, -1, -1],\n",
       "         [-1, -1, -1, ..., -1, -1, -1],\n",
       "         [-1, -1, -1, ..., -1, -1, -1]],\n",
       " \n",
       "        [[-1, -1, -1, ..., -1, -1, -1],\n",
       "         [-1, -1, -1, ..., -1, -1, -1],\n",
       "         [-1, -1, -1, ..., -1, -1, -1],\n",
       "         ...,\n",
       "         [-1, -1, -1, ..., -1, -1, -1],\n",
       "         [-1, -1, -1, ..., -1, -1, -1],\n",
       "         [-1, -1, -1, ..., -1, -1, -1]]], shape=(10, 30, 30), dtype=int32))"
      ]
     },
     "execution_count": 6,
     "metadata": {},
     "output_type": "execute_result"
    }
   ],
   "source": [
    "sample = next(iter(get_data_loader(\"data/training\")))\n",
    "sample['train']['input'][0], sample['train']['output'][0]"
   ]
  },
  {
   "cell_type": "code",
   "execution_count": 7,
   "id": "3580b87d",
   "metadata": {},
   "outputs": [
    {
     "data": {
      "text/plain": [
       "((2, 10, 30, 30), (2, 10, 30, 30), (2, 3, 30, 30), (2, 3, 30, 30))"
      ]
     },
     "execution_count": 7,
     "metadata": {},
     "output_type": "execute_result"
    }
   ],
   "source": [
    "sample['train']['input'].shape, sample['train']['output'].shape, sample['test']['input'].shape, sample['test']['output'].shape"
   ]
  },
  {
   "cell_type": "code",
   "execution_count": 14,
   "id": "171f6ffb",
   "metadata": {},
   "outputs": [
    {
     "data": {
      "text/plain": [
       "{'train': [{'input': [[0, 0, 5], [0, 5, 0], [5, 0, 0]],\n",
       "   'output': [[3, 3, 3], [4, 4, 4], [2, 2, 2]]},\n",
       "  {'input': [[0, 0, 5], [0, 0, 5], [0, 0, 5]],\n",
       "   'output': [[3, 3, 3], [3, 3, 3], [3, 3, 3]]},\n",
       "  {'input': [[5, 0, 0], [0, 5, 0], [5, 0, 0]],\n",
       "   'output': [[2, 2, 2], [4, 4, 4], [2, 2, 2]]},\n",
       "  {'input': [[0, 5, 0], [0, 0, 5], [0, 5, 0]],\n",
       "   'output': [[4, 4, 4], [3, 3, 3], [4, 4, 4]]}],\n",
       " 'test': [{'input': [[0, 0, 5], [5, 0, 0], [0, 5, 0]],\n",
       "   'output': [[3, 3, 3], [2, 2, 2], [4, 4, 4]]}]}"
      ]
     },
     "execution_count": 14,
     "metadata": {},
     "output_type": "execute_result"
    }
   ],
   "source": [
    "source[0]"
   ]
  },
  {
   "cell_type": "code",
   "execution_count": 15,
   "id": "f334ef95",
   "metadata": {},
   "outputs": [],
   "source": [
    "train_l = []\n",
    "test_l = []\n",
    "for sample in source:\n",
    "    train_l.append(len(sample['train']))\n",
    "    test_l.append(len(sample['test']))\n"
   ]
  },
  {
   "cell_type": "code",
   "execution_count": 18,
   "id": "1cbe5706",
   "metadata": {},
   "outputs": [],
   "source": [
    "import matplotlib.pyplot as plt"
   ]
  },
  {
   "cell_type": "code",
   "execution_count": 20,
   "id": "d233c4c6",
   "metadata": {},
   "outputs": [
    {
     "data": {
      "text/plain": [
       "[<matplotlib.lines.Line2D at 0x146ffa9d0>]"
      ]
     },
     "execution_count": 20,
     "metadata": {},
     "output_type": "execute_result"
    },
    {
     "data": {
      "image/png": "[encoded data removed]",
      "text/plain": [
       "<Figure size 640x480 with 1 Axes>"
      ]
     },
     "metadata": {},
     "output_type": "display_data"
    }
   ],
   "source": [
    "plt.plot(train_l)\n",
    "plt.plot(test_l)   "
   ]
  }
 ],
 "metadata": {
  "kernelspec": {
   "display_name": ".venv",
   "language": "python",
   "name": "python3"
  },
  "language_info": {
   "codemirror_mode": {
    "name": "ipython",
    "version": 3
   },
   "file_extension": ".py",
   "mimetype": "text/x-python",
   "name": "python",
   "nbconvert_exporter": "python",
   "pygments_lexer": "ipython3",
   "version": "3.11.9"
  }
 },
 "nbformat": 4,
 "nbformat_minor": 5
}
