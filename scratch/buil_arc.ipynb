{
 "cells": [
  {
   "cell_type": "code",
   "execution_count": 1,
   "id": "4aea53b4",
   "metadata": {},
   "outputs": [],
   "source": [
    "import json\n",
    "import os\n",
    "from functools import partial\n",
    "\n",
    "import jax\n",
    "from jax import numpy as jnp\n",
    "from tqdm import tqdm"
   ]
  },
  {
   "cell_type": "code",
   "execution_count": 2,
   "id": "48cc5fdb",
   "metadata": {},
   "outputs": [],
   "source": [
    "folder = \"data/training\""
   ]
  },
  {
   "cell_type": "code",
   "execution_count": 3,
   "id": "21936cd5",
   "metadata": {},
   "outputs": [
    {
     "data": {
      "text/plain": [
       "(400,\n",
       " {'train': [{'input': [[0, 0, 5], [0, 5, 0], [5, 0, 0]],\n",
       "    'output': [[3, 3, 3], [4, 4, 4], [2, 2, 2]]},\n",
       "   {'input': [[0, 0, 5], [0, 0, 5], [0, 0, 5]],\n",
       "    'output': [[3, 3, 3], [3, 3, 3], [3, 3, 3]]},\n",
       "   {'input': [[5, 0, 0], [0, 5, 0], [5, 0, 0]],\n",
       "    'output': [[2, 2, 2], [4, 4, 4], [2, 2, 2]]},\n",
       "   {'input': [[0, 5, 0], [0, 0, 5], [0, 5, 0]],\n",
       "    'output': [[4, 4, 4], [3, 3, 3], [4, 4, 4]]}],\n",
       "  'test': [{'input': [[0, 0, 5], [5, 0, 0], [0, 5, 0]],\n",
       "    'output': [[3, 3, 3], [2, 2, 2], [4, 4, 4]]}],\n",
       "  'puzzle_id': 'a85d4709'})"
      ]
     },
     "execution_count": 3,
     "metadata": {},
     "output_type": "execute_result"
    }
   ],
   "source": [
    "file_paths = [\n",
    "    os.path.join(folder, f)\n",
    "    for f in os.listdir(folder) \n",
    "    if f.endswith('.json')\n",
    "]\n",
    "\n",
    "puzzles = []\n",
    "for file_path in file_paths:\n",
    "    puzzle = json.load(open(file_path, 'r'))\n",
    "    puzzle['puzzle_id'] = file_path.split('/')[-1].split('.')[0]\n",
    "    puzzles.append(puzzle)\n",
    "\n",
    "len(puzzles), puzzles[0]"
   ]
  },
  {
   "cell_type": "code",
   "execution_count": 4,
   "id": "b6a66606",
   "metadata": {},
   "outputs": [
    {
     "data": {
      "text/plain": [
       "(1302,\n",
       " {'puzzle_id': 'a85d4709', 'x': Array([[0, 0, 5],\n",
       "         [0, 5, 0],\n",
       "         [5, 0, 0]], dtype=int32), 'y': Array([[3, 3, 3],\n",
       "         [4, 4, 4],\n",
       "         [2, 2, 2]], dtype=int32)})"
      ]
     },
     "execution_count": 4,
     "metadata": {},
     "output_type": "execute_result"
    }
   ],
   "source": [
    "puzzles_flat = []\n",
    "for puzzle in puzzles:\n",
    "    for pair in puzzle['train']:\n",
    "        puzzles_flat.append({\n",
    "            \"puzzle_id\": puzzle['puzzle_id'],\n",
    "            \"x\": jnp.asarray(pair['input']),\n",
    "            \"y\": jnp.asarray(pair['output'])\n",
    "        })\n",
    "\n",
    "len(puzzles_flat), puzzles_flat[0]"
   ]
  },
  {
   "cell_type": "code",
   "execution_count": 5,
   "id": "2829856f",
   "metadata": {},
   "outputs": [],
   "source": [
    "def d8_aug(puzzle, op_idx):\n",
    "    ops = [\n",
    "        lambda x: x,\n",
    "        partial(jnp.rot90, k=1),\n",
    "        partial(jnp.rot90, k=2),\n",
    "        partial(jnp.rot90, k=3),\n",
    "        jnp.fliplr,\n",
    "        jnp.flipud,\n",
    "        jnp.transpose,\n",
    "        lambda x: jnp.transpose(jnp.rot90(x, k=1)),\n",
    "    ]\n",
    "    return {\n",
    "        **puzzle,\n",
    "        \"x\": ops[op_idx](puzzle[\"x\"]), \n",
    "        \"y\": ops[op_idx](puzzle[\"y\"]),\n",
    "        \"d8_aug\": op_idx\n",
    "    }\n",
    "\n",
    "def colour_aug(puzzle, colours):\n",
    "    return {\n",
    "        **puzzle,\n",
    "        \"x\": colours[puzzle[\"x\"]],\n",
    "        \"y\": colours[puzzle[\"x\"]],\n",
    "        \"colour_aug\": colours\n",
    "    }"
   ]
  },
  {
   "cell_type": "code",
   "execution_count": 6,
   "id": "ffca6871",
   "metadata": {},
   "outputs": [
    {
     "name": "stderr",
     "output_type": "stream",
     "text": [
      "100%|██████████| 1302/1302 [38:35<00:00,  1.78s/it]   \n"
     ]
    }
   ],
   "source": [
    "key = jax.random.key(0)\n",
    "puzzles_aug = []\n",
    "n_augs = 1000\n",
    "for puzzle in tqdm(puzzles_flat):\n",
    "    # no augs\n",
    "    base = puzzle.copy() \n",
    "    base[\"d8_aug\"] = -1\n",
    "    base[\"colour_aug\"] = jnp.arange(10)\n",
    "    puzzles_aug.append(base)\n",
    "    puzzles_meta = {(base['puzzle_id'], base['d8_aug'], str(base[\"colour_aug\"]))}\n",
    "\n",
    "    # keep trying augs until unique n_augs\n",
    "    current_augs = 0\n",
    "    while current_augs < n_augs:\n",
    "        key, op_key, colour_key = jax.random.split(key, 3)\n",
    "        op_idx = jax.random.randint(op_key, (), 0, 8).item()\n",
    "        colours = jax.random.permutation(colour_key, jnp.arange(10))\n",
    "        aug_puzzle = colour_aug(d8_aug(puzzle.copy(), op_idx), colours)\n",
    "        aug_meta = (aug_puzzle['puzzle_id'], aug_puzzle['d8_aug'], str(aug_puzzle[\"colour_aug\"]))\n",
    "        if aug_meta not in puzzles_meta:\n",
    "            puzzles_aug.append(aug_puzzle)\n",
    "            puzzles_meta.add(aug_meta)\n",
    "            current_augs += 1"
   ]
  },
  {
   "cell_type": "code",
   "execution_count": 8,
   "id": "0dc4c6d2",
   "metadata": {},
   "outputs": [
    {
     "name": "stderr",
     "output_type": "stream",
     "text": [
      "100%|██████████| 1303302/1303302 [03:17<00:00, 6588.35it/s] \n"
     ]
    }
   ],
   "source": [
    "output_path = f\"data/training_n_augs={n_augs}.jsonl\"\n",
    "with open(output_path, 'w') as file:\n",
    "    for aug_puzzle in tqdm(puzzles_aug):\n",
    "        out_puzzle = {\n",
    "            **aug_puzzle,\n",
    "            \"x\": aug_puzzle[\"x\"].tolist(),\n",
    "            \"y\": aug_puzzle[\"y\"].tolist(),\n",
    "            \"colour_aug\": aug_puzzle[\"colour_aug\"].tolist()\n",
    "        }\n",
    "        json.dump(out_puzzle, file)\n",
    "        file.write(\"\\n\")"
   ]
  }
 ],
 "metadata": {
  "kernelspec": {
   "display_name": "arc-diffusion",
   "language": "python",
   "name": "python3"
  },
  "language_info": {
   "codemirror_mode": {
    "name": "ipython",
    "version": 3
   },
   "file_extension": ".py",
   "mimetype": "text/x-python",
   "name": "python",
   "nbconvert_exporter": "python",
   "pygments_lexer": "ipython3",
   "version": "3.11.10"
  }
 },
 "nbformat": 4,
 "nbformat_minor": 5
}
